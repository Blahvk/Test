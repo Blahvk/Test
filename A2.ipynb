{
 "cells": [
  {
   "cell_type": "code",
   "execution_count": 1,
   "id": "2afe650f",
   "metadata": {},
   "outputs": [],
   "source": [
    "import whois \n",
    "\n",
    "def is_registered(domain_name):\n",
    "    \"\"\"\n",
    "    A function that returns a boolean indicating \n",
    "    whether a `domain_name` is registered\n",
    "    \"\"\"\n",
    "    try:\n",
    "        w = whois.whois(domain_name)\n",
    "    except Exception:\n",
    "        return False\n",
    "    else:\n",
    "        return bool(w.domain_name)"
   ]
  },
  {
   "cell_type": "code",
   "execution_count": 2,
   "id": "353d28c3",
   "metadata": {},
   "outputs": [
    {
     "name": "stdout",
     "output_type": "stream",
     "text": [
      "WHOIS information has been written to whois_info.csv\n"
     ]
    }
   ],
   "source": [
    "import csv\n",
    "\n",
    "domain_names = [\"gupdate.us\", \"msupdate.top\", \"mssync.one\", \"upmirror.top\"]\n",
    "\n",
    "csv_file = \"whois_info.csv\"\n",
    "\n",
    "with open(csv_file, \"w\", newline=\"\") as f:\n",
    "    writer = csv.writer(f)\n",
    "    \n",
    "    header = [\"Domain Name\"]\n",
    "    all_categories = set()\n",
    "    \n",
    "    for domain_name in domain_names:\n",
    "        if is_registered(domain_name):\n",
    "            whois_info = whois.whois(domain_name)\n",
    "            all_categories.update(whois_info.keys())\n",
    "            \n",
    "    header.extend(all_categories)\n",
    "    writer.writerow(header)\n",
    "    \n",
    "    for domain_name in domain_names:\n",
    "        if is_registered(domain_name):\n",
    "            whois_info = whois.whois(domain_name)\n",
    "            row = [domain_name]\n",
    "            for category in all_categories:\n",
    "                value = whois_info.get(category, \"\")\n",
    "                row.append(value)\n",
    "            writer.writerow(row)\n",
    "        else:\n",
    "            writer.writerow([domain_name] + [\"Not registered\"] * len(all_categories))\n",
    "\n",
    "print(\"WHOIS information has been written to\", csv_file)"
   ]
  }
 ],
 "metadata": {
  "kernelspec": {
   "display_name": "Python 3",
   "language": "python",
   "name": "python3"
  },
  "language_info": {
   "codemirror_mode": {
    "name": "ipython",
    "version": 3
   },
   "file_extension": ".py",
   "mimetype": "text/x-python",
   "name": "python",
   "nbconvert_exporter": "python",
   "pygments_lexer": "ipython3",
   "version": "3.8.8"
  }
 },
 "nbformat": 4,
 "nbformat_minor": 5
}
